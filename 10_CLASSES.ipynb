{
 "cells": [
  {
   "cell_type": "markdown",
   "metadata": {},
   "source": [
    "## Introduction to Classes\n",
    "\n",
    "- object의 공장"
   ]
  },
  {
   "cell_type": "code",
   "execution_count": null,
   "metadata": {
    "vscode": {
     "languageId": "javascript"
    }
   },
   "outputs": [],
   "source": [
    "class User {\n",
    "  constructor() {\n",
    "    this.username = \"Nicolas\";\n",
    "  }\n",
    "  sayHello() {\n",
    "    console.log(`Hello, my name is ${this.username}`);\n",
    "  }\n",
    "}\n",
    "\n",
    "const sexyUser = new User();\n",
    "\n",
    "console.log(sexyUser.username); // Nicolas\n",
    "\n",
    "setTimeout(sexyUser.sayHello, 4000);"
   ]
  },
  {
   "cell_type": "markdown",
   "metadata": {},
   "source": [
    "## Extending Classes"
   ]
  },
  {
   "cell_type": "code",
   "execution_count": null,
   "metadata": {
    "vscode": {
     "languageId": "javascript"
    }
   },
   "outputs": [],
   "source": [
    "class User {\n",
    "  constructor({ username, lastname, email, password }) {\n",
    "    this.username = username;\n",
    "    this.lastname = lastname;\n",
    "    this.email = email;\n",
    "    this.password = password;\n",
    "  }\n",
    "  \n",
    "  getProfile() {\n",
    "    console.log(`${this.username} ${this.email} ${this.password}`);\n",
    "  }\n",
    "  updatepassword(newpassword, currentpassword) {\n",
    "    if (currentpassword === this.password) {\n",
    "      this.password = newpassword;\n",
    "    } else {\n",
    "      console.log(\"can't change password\");\n",
    "    }\n",
    "  }\n",
    "}\n",
    "  const sexyUser = new User({\n",
    "    username: \"Nico\",\n",
    "    lastname: \"serrano\",\n",
    "    email: \"nico@com\",\n",
    "    password: \"1234\",\n",
    "  });\n",
    "  \n",
    "class Admin extends User {\n",
    "  constructor({ username, lastname, email, password, superadmin, isActive }) {\n",
    "    super({ username, lastname, email, password });\n",
    "    this.superadmin = superadmin;\n",
    "    this.isActive = isActive;\n",
    "  }\n",
    "  deleteWebsite() {\n",
    "    console.log(\"Boom!\");\n",
    "  }\n",
    "}\n",
    "  \n",
    "const admin = new Admin({\n",
    "  username: \"Nico\",\n",
    "  lastname: \"serrano\",\n",
    "  email: \"nico@com\",\n",
    "  password: \"1234\",\n",
    "  superadmin: true,\n",
    "  isActive: true,\n",
    "});"
   ]
  },
  {
   "cell_type": "markdown",
   "metadata": {},
   "source": [
    "## Super"
   ]
  },
  {
   "cell_type": "code",
   "execution_count": null,
   "metadata": {
    "vscode": {
     "languageId": "javascript"
    }
   },
   "outputs": [],
   "source": [
    "class Counter {\n",
    "  constructor({ initialNumber = 0, counterId, plusId, minusId }) {\n",
    "  this.count = initialNumber;\n",
    "  this.counter = document.getElementById(counterId);\n",
    "  this.plusBtn = document.getElementById( plusId);\n",
    "  this.minusBtn = document.getElementById(minusId);\n",
    "  this.addEventListeners();\n",
    "  }\n",
    "  addEventListeners() {\n",
    "  this.plusBtn.addEventListener(\"click\", this.increase);\n",
    "  this.minusBtn.addEventListener(\"click\", this.decrease);\n",
    "  }\n",
    "  increase() {\n",
    "  this.count = this.count + 1;\n",
    "  this.repaintCount();\n",
    "  }\n",
    "  decrease() {\n",
    "  this.count = this.count - 1;\n",
    "  this.repaintCount();\n",
    "  }\n",
    "  repaintCount() {\n",
    "  this.counter.innerText = this.count;\n",
    "  }\n",
    "  }\n",
    "  \n",
    "  new Counter({ counterId: \"count\", plusId: \"add\", minusId: \"minus\" });"
   ]
  },
  {
   "cell_type": "markdown",
   "metadata": {},
   "source": [
    "## WTF is this\n",
    "- addEventListener가 등록되어있는 event target이 this가 된다\n",
    "\n",
    "- 일반 함수에서의 this는 현재 실행 컨텍스트 기준 가장 가까운 상위 object 타입 레퍼런스를 갖게 되어서, 어떻게 호출하냐에 따라 바뀌지만, arrow function을 사용하면 상위 스코프의 this를 상속받게 되어 고정된 값으로 사용할 수 있다.\n",
    "- (arrow function을 사용하지 않고 고정된 this값을 사용하고 싶으면 .bind()를 사용하여 this가 가리킬 object를 설정할 수 있다.)"
   ]
  },
  {
   "cell_type": "code",
   "execution_count": null,
   "metadata": {
    "vscode": {
     "languageId": "javascript"
    }
   },
   "outputs": [],
   "source": []
  },
  {
   "cell_type": "code",
   "execution_count": null,
   "metadata": {
    "vscode": {
     "languageId": "javascript"
    }
   },
   "outputs": [],
   "source": [
    "class Counter {\n",
    "  constructor({ initialNumber = 0, counterId, plusId, minusId }) {\n",
    "  this.count = initialNumber;\n",
    "  this.counter = document.getElementById(counterId);\n",
    "  this.counter.innerText = initialNumber;\n",
    "  this.plusBtn = document.getElementById(plusId);\n",
    "  this.minusBtn = document.getElementById(minusId);\n",
    "  this.addEventListeners();\n",
    "  }\n",
    "  addEventListeners = () => {\n",
    "  this.plusBtn.addEventListener(\"click\", this.increase);\n",
    "  this.minusBtn.addEventListener(\"click\", this.decrease);\n",
    "  };\n",
    "  increase = () => {\n",
    "  this.count = this.count + 1;\n",
    "  this.repaintCount();\n",
    "  };\n",
    "  decrease = () => {\n",
    "  this.count = this.count - 1;\n",
    "  this.repaintCount();\n",
    "  };\n",
    "  repaintCount = () => {\n",
    "  this.counter.innerText = this.count;\n",
    "  };\n",
    "  }\n",
    "  \n",
    "  new Counter({ counterId: \"count\", plusId: \"add\", minusId: \"minus\" });\n",
    "  \n",
    "  new Counter({\n",
    "  counterId: \"count2\",\n",
    "  plusId: \"add2\",\n",
    "  minusId: \"minus2\",\n",
    "  initialNumber: 100,\n",
    "  });"
   ]
  }
 ],
 "metadata": {
  "language_info": {
   "name": "python"
  }
 },
 "nbformat": 4,
 "nbformat_minor": 2
}
