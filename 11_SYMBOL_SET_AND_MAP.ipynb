{
 "cells": [
  {
   "cell_type": "markdown",
   "metadata": {},
   "source": [
    "## Symbols"
   ]
  },
  {
   "cell_type": "code",
   "execution_count": null,
   "metadata": {
    "vscode": {
     "languageId": "javascript"
    }
   },
   "outputs": [],
   "source": [
    "const hello = Symbol(\"hello\");\n",
    "const bye = Symbol(\"hello\");\n",
    "\n",
    "hello === bye; // false\n",
    "\n",
    "const superbig = {\n",
    "  [symbol(\"nico\")] : {\n",
    "    age: 12\n",
    "  },\n",
    "  [symbol(\"nico\")] : {\n",
    "    age: 12\n",
    "  },\n",
    "  hello: \"bye\"\n",
    "};\n"
   ]
  },
  {
   "cell_type": "markdown",
   "metadata": {},
   "source": [
    "## WeakSet"
   ]
  },
  {
   "cell_type": "code",
   "execution_count": null,
   "metadata": {
    "vscode": {
     "languageId": "javascript"
    }
   },
   "outputs": [],
   "source": [
    "const weakSet = new WeakSet();"
   ]
  },
  {
   "cell_type": "markdown",
   "metadata": {},
   "source": [
    "## Map and Weakmap"
   ]
  },
  {
   "cell_type": "code",
   "execution_count": null,
   "metadata": {
    "vscode": {
     "languageId": "javascript"
    }
   },
   "outputs": [],
   "source": [
    "const map = new Map();\n",
    "map.set(\"age\", 18);"
   ]
  }
 ],
 "metadata": {
  "language_info": {
   "name": "python"
  }
 },
 "nbformat": 4,
 "nbformat_minor": 2
}
