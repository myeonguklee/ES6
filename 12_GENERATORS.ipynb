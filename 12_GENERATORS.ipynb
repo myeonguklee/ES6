{
 "cells": [
  {
   "cell_type": "markdown",
   "metadata": {},
   "source": [
    "## Generators"
   ]
  },
  {
   "cell_type": "code",
   "execution_count": null,
   "metadata": {
    "vscode": {
     "languageId": "javascript"
    }
   },
   "outputs": [],
   "source": [
    "function* listPeople() {\n",
    "  yield \"Dal\";\n",
    "  yield \"Flynn\";\n",
    "  yield \"Mark\";\n",
    "  yield \"Godkimchi\";\n",
    "}"
   ]
  }
 ],
 "metadata": {
  "language_info": {
   "name": "python"
  }
 },
 "nbformat": 4,
 "nbformat_minor": 2
}
