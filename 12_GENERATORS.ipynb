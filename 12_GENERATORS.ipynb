{
 "cells": [
  {
   "cell_type": "markdown",
   "metadata": {},
   "source": [
    "## Generators"
   ]
  },
  {
   "cell_type": "code",
   "execution_count": null,
   "metadata": {
    "vscode": {
     "languageId": "javascript"
    }
   },
   "outputs": [],
   "source": [
    "function* listPeople() {\n",
    "  yield \"Dal\";\n",
    "  yield \"Flynn\";\n",
    "  yield \"Mark\";\n",
    "  yield \"Godkimchi\";\n",
    "  yield \"Japan Guy\"\n",
    "}\n",
    "\n",
    "const listG = listPeople();\n",
    "\n",
    "const freiends = [\"Dal\", \"Flynn\", \"Mark\", \"Godkimchi\", \"Japan Guy\"];\n",
    "\n",
    "function* friendTeller() {\n",
    "  for (const f of freiends) {\n",
    "    yield f;\n",
    "  }\n",
    "}\n",
    "\n",
    "const friendLooper = friendTeller();"
   ]
  },
  {
   "cell_type": "markdown",
   "metadata": {},
   "source": [
    "## Proxies"
   ]
  },
  {
   "cell_type": "code",
   "execution_count": null,
   "metadata": {
    "vscode": {
     "languageId": "javascript"
    }
   },
   "outputs": [],
   "source": [
    "const userOBj = {\n",
    "  username: \"nico\",\n",
    "  age: 12,\n",
    "  password: 1234\n",
    "}\n",
    "\n",
    "const userFilter = {\n",
    "  get: (target, prop, receive) => {\n",
    "    return target[prop];\n",
    "  },\n",
    "  set: () => {\n",
    "    console.log(\"Somebody wrote something\");\n",
    "  },\n",
    "  deleteProperty: (target, prop) => {\n",
    "    if (prop === \"password\") {\n",
    "      return;\n",
    "    } else {\n",
    "      target[prop] = \"DELETED\";\n",
    "    }\n",
    "  }\n",
    "};\n",
    "\n",
    "const filteredUser = new Proxy(userOBj, userFilter);"
   ]
  }
 ],
 "metadata": {
  "language_info": {
   "name": "python"
  }
 },
 "nbformat": 4,
 "nbformat_minor": 2
}
