{
 "cells": [
  {
   "cell_type": "markdown",
   "metadata": {
    "vscode": {
     "languageId": "javascript"
    }
   },
   "source": [
    "## JS 변수\n",
    "\n",
    "var은 변수를 선언하고, 선택적으로 초기화 **(사용하지 않기!!)**\n",
    "\n",
    "let은 블록 스코프의 범위를 가지는 지역 변수를 선언하며, 선언과 동시에 임의의 값으로 초기화\n",
    "\n",
    "const 선언은 블록 범위의 상수를 선언합니다. 상수의 값은 재할당할 수 없으며 다시 선언할 수도 없음"
   ]
  },
  {
   "cell_type": "markdown",
   "metadata": {},
   "source": [
    "## Temporal Dead Zone\n",
    "\n",
    "let 변수는 선언하기 전에는 읽거나 쓸 수 없음\n",
    "(선언 구문에 초기 값을 지정하지 않은 경우 undefined로 초기화함).\n",
    "초기화 전에 접근을 시도하면 ReferenceError가 발생합니다.\n",
    "\n",
    "* 참고: var 변수와 다른 점으로, var의 경우 선언 전에 접근할 시 undefined입니다.\n",
    "\n",
    "변수 스코프의 맨 위에서 변수의 초기화 완료 시점까지의 변수는 \"시간상 사각지대\"(Temporal Dead Zone, TDZ)에 들어간 변수라고 표현"
   ]
  },
  {
   "cell_type": "markdown",
   "metadata": {},
   "source": [
    "## Block Scope\n",
    "\n",
    "스코프는 컨테이너 또는 바구니 역할을 하는 일종의 버블이다.\n",
    "이 버블이 접근가능한지 아닌지를 감지해줌"
   ]
  },
  {
   "cell_type": "code",
   "execution_count": null,
   "metadata": {},
   "outputs": [],
   "source": [
    "if (true) {\n",
    "  let hello = \"hi\";\n",
    "}\n",
    "console.log(hello)\n",
    "// Output: ReferenceError: hello is not defined\n",
    "// let, const 는 브록 스코프를 가지기 때문에 블록 밖에서는 접근할 수 없음\n",
    "// 블록 안에서는 블록 밖의 변수에 접근할 수 있음"
   ]
  },
  {
   "cell_type": "code",
   "execution_count": null,
   "metadata": {},
   "outputs": [],
   "source": [
    "if (true) {\n",
    "  var hello = \"hi\";\n",
    "}\n",
    "\n",
    "console.log(hello)\n",
    "// var는 펑션 스코프이기 때문에 블록 스코프 밖에서도 접근 가능\n",
    "// Output: hi\n",
    "// 블록 스코프 벗어남"
   ]
  }
 ],
 "metadata": {
  "kernelspec": {
   "display_name": "JavaScript (Node.js)",
   "language": "javascript",
   "name": "javascript"
  },
  "language_info": {
   "file_extension": ".js",
   "mimetype": "application/javascript",
   "name": "javascript",
   "version": "20.11.1"
  }
 },
 "nbformat": 4,
 "nbformat_minor": 2
}
