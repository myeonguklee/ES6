{
 "cells": [
  {
   "cell_type": "markdown",
   "metadata": {},
   "source": [
    "## Arrow functions\n",
    "화살표 함수 표현(arrow function expression)은 전통적인 함수표현(function)의 간편한 대안\n",
    "\n",
    "하지만, 화살표 함수는 몇 가지 제한점이 있고 모든 상황에 사용할 수는 없습니다."
   ]
  },
  {
   "cell_type": "code",
   "execution_count": null,
   "metadata": {},
   "outputs": [],
   "source": [
    "const names = [\"nico\", \"lynn\", \"flynn\"];\n",
    "\n",
    "const heart = names.map(function(item) {\n",
    "  return item + \" 💞\";\n",
    "})\n",
    "\n",
    "console.log(heart)\n",
    "// Output: [\"nico 💞\", \"lynn 💞\", \"flynn 💞\"]"
   ]
  },
  {
   "cell_type": "code",
   "execution_count": null,
   "metadata": {},
   "outputs": [],
   "source": [
    "const names = [\"nico\", \"lynn\", \"flynn\"];\n",
    "\n",
    "function addHeart(item) {\n",
    "  return item + \" 💞\";\n",
    "}\n",
    "\n",
    "const heart = names.map(addHeart);\n",
    "\n",
    "console.log(heart)\n",
    "// Output: [\"nico 💞\", \"lynn 💞\", \"flynn 💞\"]"
   ]
  },
  {
   "cell_type": "code",
   "execution_count": null,
   "metadata": {},
   "outputs": [],
   "source": [
    "const names = [\"nico\", \"lynn\", \"flynn\"];\n",
    "\n",
    "const heart = names.map((item, index) => {\n",
    "  console.log(\"we are on\", index)\n",
    "  return item + \" 💞\";\n",
    "});\n",
    "\n",
    "console.log(heart)\n",
    "// Output: [\"nico 💞\", \"lynn 💞\", \"flynn 💞\"]"
   ]
  },
  {
   "cell_type": "code",
   "execution_count": null,
   "metadata": {},
   "outputs": [
    {
     "name": "stdout",
     "output_type": "stream",
     "text": [
      "[ 'nico 💞', 'lynn 💞', 'flynn 💞' ]\n"
     ]
    }
   ],
   "source": [
    "//Implicit return\n",
    "\n",
    "const names = [\"nico\", \"lynn\", \"flynn\"];\n",
    "\n",
    "const heart = names.map(item => item + \" 💞\");\n",
    "\n",
    "console.log(heart)\n",
    "// Output: [\"nico 💞\", \"lynn 💞\", \"flynn 💞\"]"
   ]
  },
  {
   "cell_type": "markdown",
   "metadata": {},
   "source": [
    "## arrow function 쓰면 안될때\n",
    "### this 사용할 때 \n",
    "\n",
    "[ Point ]\n",
    "1. arrow function 내부에서는 eventListener의 타겟을 this로 감지할 수 없으며, this는 window를 가리키고 있음\n",
    "\n",
    "2. object 내부에 선언된 함수도 마찬가지이므로, object 내부의 property를 핸들링하려면 function으로 선언 필요\n",
    "\n",
    "3. arrow function을 사용하면서 eventListener를 등록해야 할 때에는 event를 (event) => 형태로 인자로 넘겨주는 방식의 대안 존재"
   ]
  },
  {
   "cell_type": "code",
   "execution_count": null,
   "metadata": {},
   "outputs": [],
   "source": [
    "const emails = [\n",
    "  \"nco@no.com\",\n",
    "  \"naver@googele.com\",\n",
    "  \"lyunn@gamail.com\",\n",
    "  \"nico@nomad.com\",\n",
    "  \"nico@gmail.com\"\n",
    "];\n",
    "\n",
    "const foundMail = emails.find(item => item.includes(\"@gamail.com\"));\n",
    "console.log(foundMail);\n",
    "\n",
    "const noGmail = emails.filter(item => !item.includes(\"gmail\"));\n",
    "console.log(noGmail);\n",
    "\n",
    "emails.forEach(email => {\n",
    "  console.log(email.split(\"@\")[0]);\n",
    "})\n",
    "const cleaned = emails.map(email => email.split(\"@\")[0]);\n",
    "console.log(cleaned);\n",
    "\n",
    "const clean = emails.map((email, index) => ({\n",
    "  username: email.split(\"@\")[0],\n",
    "  index\n",
    "}));\n",
    "console.table(clean);"
   ]
  },
  {
   "cell_type": "code",
   "execution_count": 1,
   "metadata": {},
   "outputs": [
    {
     "name": "stdout",
     "output_type": "stream",
     "text": [
      "Hello Nico\n",
      "Hello anon\n"
     ]
    }
   ],
   "source": [
    "// default value\n",
    "\n",
    "function sayHi(aName = \"anon\") {\n",
    "  return \"Hello \" + aName;\n",
    "}\n",
    "\n",
    "console.log(sayHi(\"Nico\"));\n",
    "console.log(sayHi());"
   ]
  },
  {
   "cell_type": "code",
   "execution_count": null,
   "metadata": {},
   "outputs": [],
   "source": []
  }
 ],
 "metadata": {
  "kernelspec": {
   "display_name": "JavaScript (Node.js)",
   "language": "javascript",
   "name": "javascript"
  },
  "language_info": {
   "file_extension": ".js",
   "mimetype": "application/javascript",
   "name": "javascript",
   "version": "20.11.1"
  }
 },
 "nbformat": 4,
 "nbformat_minor": 2
}
