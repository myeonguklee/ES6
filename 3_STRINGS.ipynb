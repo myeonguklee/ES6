{
 "cells": [
  {
   "cell_type": "code",
   "execution_count": 5,
   "metadata": {},
   "outputs": [
    {
     "ename": "SyntaxError",
     "evalue": "Identifier 'plus' has already been declared",
     "output_type": "error",
     "traceback": [
      "evalmachine.<anonymous>:1",
      "// template literals",
      "^",
      "",
      "SyntaxError: Identifier 'plus' has already been declared",
      "    at Script.runInThisContext (node:vm:121:12)",
      "    at Object.runInThisContext (node:vm:303:38)",
      "    at run ([eval]:1020:15)",
      "    at onRunRequest ([eval]:864:18)",
      "    at onMessage ([eval]:828:13)",
      "    at process.emit (node:events:518:28)",
      "    at emit (node:internal/child_process:951:14)",
      "    at process.processTicksAndRejections (node:internal/process/task_queues:83:21)"
     ]
    }
   ],
   "source": [
    "// template literals\n",
    "\n",
    "function sayHi(aName = \"anon\") {\n",
    "  return `Hello ${aName} lovely to have you`;\n",
    "}\n",
    "\n",
    "console.log(sayHi(\"Nico\"));\n",
    "console.log(sayHi());\n",
    "\n",
    "const plus = (a, b) => a + b;\n",
    "console.log(`hello ${plus(1, 2)}`);\n",
    "\n"
   ]
  },
  {
   "cell_type": "code",
   "execution_count": null,
   "metadata": {},
   "outputs": [],
   "source": [
    "const wrapper = document.querySelector(\".wrapper\");\n",
    "\n",
    "const addWelcome = () => {\n",
    "  const div = document.createElement(\"div\");\n",
    "  const h1 = document.createElement(\"h1\");\n",
    "  h1.innerText = \"Hello!\";\n",
    "  div.append(h1);\n",
    "  wrapper.append(div);\n",
    "};\n",
    "\n",
    "setTimeout(addWelcome, 2000);"
   ]
  },
  {
   "cell_type": "code",
   "execution_count": null,
   "metadata": {},
   "outputs": [],
   "source": [
    "const wrapper = document.querySelector(\".wrapper\");\n",
    "\n",
    "const addWelcome = () => {\n",
    "  const div = `\n",
    "    <div class=\"hello\">\n",
    "      <h1 class=\"title\">Hello!</h1>\n",
    "    </div>\n",
    "  `;\n",
    "  wrapper.innerHTML = div;\n",
    "};\n",
    "\n",
    "setTimeout(addWelcome, 2000);"
   ]
  },
  {
   "cell_type": "code",
   "execution_count": null,
   "metadata": {},
   "outputs": [],
   "source": [
    "const wrapper = document.querySelector(\".wrapper\");\n",
    "\n",
    "const friends = [\"nico\", \"lynn\", \"dal\", \"mark\"];\n",
    "\n",
    "const ul = document.createElement(\"ul\");\n",
    "friends.forEach((friend) => {\n",
    "  const li = document.createElement(\"li\");\n",
    "  li.innerText = friend;\n",
    "  ul.append(li);\n",
    "});\n",
    "\n",
    "const list = `\n",
    "  <h1>People I love</h1>\n",
    "  <ul>\n",
    "    ${friends.map((friend) => `<li>${friend}</li>`).join(\" \")}\n",
    "  </ul>\n",
    "`;\n",
    "\n",
    "wrapper.innerHTML = list;"
   ]
  },
  {
   "cell_type": "code",
   "execution_count": null,
   "metadata": {},
   "outputs": [],
   "source": [
    "// styled components\n",
    "\n",
    "const styled = aElement => {\n",
    "  const el = document.createElement(aElement);\n",
    "  return (args) => {\n",
    "    const styles = args[0];\n",
    "    el.style = styles;\n",
    "    return el;\n",
    "  };\n",
    "}\n",
    "\n",
    "const title = styled(\"h1\")`\n",
    "  background-color: red;\n",
    "  color:blue;\n",
    "`;\n",
    "\n",
    "const subtitle = styled(\"span\")`\n",
    "  color: green;\n",
    "`;\n",
    "\n",
    "title.innerText = \"We just cloned\";\n",
    "subtitle.innerText = \"Styled Components\";\n",
    "\n",
    "document.body.append(title, subtitle);"
   ]
  },
  {
   "cell_type": "code",
   "execution_count": null,
   "metadata": {},
   "outputs": [],
   "source": [
    "// includes\n",
    "\n",
    "const isEmail = email => email.includes(\"@\");\n",
    "\n",
    "console.log(isEmail(\"nico@nomadcoders.co\"))"
   ]
  },
  {
   "cell_type": "code",
   "execution_count": 6,
   "metadata": {},
   "outputs": [
    {
     "name": "stdout",
     "output_type": "stream",
     "text": [
      "**********6060\n"
     ]
    }
   ],
   "source": [
    "const CC_NUMBER = \"6060\";\n",
    "\n",
    "const displayName = `${\"*\".repeat(10)}${CC_NUMBER}`;\n",
    "console.log(displayName);"
   ]
  },
  {
   "cell_type": "code",
   "execution_count": null,
   "metadata": {},
   "outputs": [],
   "source": [
    "const name = \"Mr.Nicolas\"\n",
    "\n",
    "console.log(name.startsWith(\"Mr\"));\n",
    "console.log(name.endsWith(\"las\"));"
   ]
  }
 ],
 "metadata": {
  "kernelspec": {
   "display_name": "JavaScript (Node.js)",
   "language": "javascript",
   "name": "javascript"
  },
  "language_info": {
   "file_extension": ".js",
   "mimetype": "application/javascript",
   "name": "javascript",
   "version": "20.11.1"
  }
 },
 "nbformat": 4,
 "nbformat_minor": 2
}
