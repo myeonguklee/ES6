{
 "cells": [
  {
   "cell_type": "code",
   "execution_count": null,
   "metadata": {
    "vscode": {
     "languageId": "javascript"
    }
   },
   "outputs": [],
   "source": [
    "// const friends = [\"nico,\", \"lynn\", \"dal\", \"mark\", \"flynn\"];\n",
    "const friends = Array.of(\"nico,\", \"lynn\", \"dal\", \"mark\", \"flynn\");\n",
    "\n",
    "console.log(friends);\n",
    "\n",
    "const buttons = document.getElementsByClassName(\"btn\");\n",
    "\n",
    "// array, array-like object\n",
    "// Array.from : object를 array로 변환\n",
    "\n",
    "const ar = Array.from(buttons);\n",
    "ar.forEach(button => {\n",
    "  button.addEventListener(\"click\", () => console.log(\"I've been clicked\"));\n",
    "});\n",
    "\n",
    "\n",
    "\n",
    "const friends = [\"nico@gamail.com\", \"lynn@naver.com\", \"dal@yahoo.com\", \"mark@hotmail.com\", \"flynn@gorea.com\"];\n",
    "\n",
    "// const target = friends.find(friend => friend.includes(\"@korea.com\"));\n",
    "// console.log(target);\n",
    "\n",
    "const check = () => friends.findIndex(friend => friend.includes(\"@gorea.com\"));\n",
    "\n",
    "let target = check();\n",
    "\n",
    "if (target !== -1) {\n",
    "  // friends.fill(\"*\".repeat(5), target);\n",
    "  console.log(target);\n",
    "\n",
    "  const username = friends[target].split(\"@\")[0];\n",
    "  const email = \"korea.com\";\n",
    "  friends[target] = `${username}@${email}`;\n",
    "\n",
    "  target = friends.findIndex(friend => friend.includes(\"@korea.com\"));\n",
    "}\n",
    "\n",
    "friends.fill(\"*\".repeat(5), 1, 3);\n",
    "\n",
    "console.log(target);\n",
    "console.log(\"friends\", friends);\n",
    "\n",
    "console.log(friends.includes(\"nico@gmail.com\"));\n"
   ]
  },
  {
   "cell_type": "code",
   "execution_count": null,
   "metadata": {
    "vscode": {
     "languageId": "javascript"
    }
   },
   "outputs": [],
   "source": []
  }
 ],
 "metadata": {
  "language_info": {
   "name": "python"
  }
 },
 "nbformat": 4,
 "nbformat_minor": 2
}
