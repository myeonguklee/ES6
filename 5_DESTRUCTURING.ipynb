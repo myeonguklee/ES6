{
 "cells": [
  {
   "cell_type": "markdown",
   "metadata": {},
   "source": [
    "## Object Destructuring"
   ]
  },
  {
   "cell_type": "code",
   "execution_count": null,
   "metadata": {
    "vscode": {
     "languageId": "javascript"
    }
   },
   "outputs": [],
   "source": [
    "const settings = {\n",
    "  notifications: {\n",
    "    follow: true,\n",
    "    alert: true,\n",
    "    unfollow: false,\n",
    "  },\n",
    "  color: {\n",
    "    theme: \"dark\",\n",
    "  }\n",
    "};\n",
    "\n",
    "// if (settings.notifications.follow) {\n",
    "//   console.log(\"You have a new follower!\");\n",
    "// }\n",
    "\n",
    "// const {\n",
    "//   notifications: { follow },\n",
    "//   color\n",
    "// } = settings;\n",
    "\n",
    "// const notifications = settings.notifications;\n",
    "\n",
    "const { notifications } = settings;\n",
    "\n",
    "console.log(notifications);\n",
    "\n",
    "// follow 없으면 false 할당\n",
    "const { notifications: { follow = false} } = settings;\n",
    "console.log(follow);\n",
    "\n",
    "// notifications 없으면 {} 할당\n",
    "const { notifications: { follow = false } = {} } = settings;\n",
    "console.log(follow);\n",
    "\n",
    "const { color: { theme = \"light\" } } = settings;\n",
    "console.log(theme);"
   ]
  },
  {
   "cell_type": "markdown",
   "metadata": {},
   "source": [
    "## Array Destructuring"
   ]
  },
  {
   "cell_type": "code",
   "execution_count": null,
   "metadata": {
    "vscode": {
     "languageId": "javascript"
    }
   },
   "outputs": [],
   "source": [
    "const days = [\"Mon\", \"Tue\", \"Wed\", \"Thu\", \"Fri\", \"Sat\", \"Sun\"];\n",
    "\n",
    "// const mon = days[0];\n",
    "// const tue = days[1];\n",
    "// const wed = days[2];\n",
    "\n",
    "const [mon, tue, wed, thu=\"Thu\"] = days;\n",
    "\n",
    "console.log(mon, tue, wed);"
   ]
  },
  {
   "cell_type": "markdown",
   "metadata": {},
   "source": [
    "## Renaming\n",
    "\n",
    "- 변수 뒤에 ': 변경할이름' 으로 변수명을 바꿔줄 수 있다\n",
    "\n",
    "- Destructuring 을 ()에 감싸서 이미 존재하는 let 변수를 업데이트 할 수 있다"
   ]
  },
  {
   "cell_type": "code",
   "execution_count": null,
   "metadata": {
    "vscode": {
     "languageId": "javascript"
    }
   },
   "outputs": [],
   "source": [
    "const settings = {\n",
    "  color: {\n",
    "    chosen_color: \"darK\",\n",
    "  }\n",
    "};\n",
    "\n",
    "// let chosenColor = \"blue\";\n",
    "\n",
    "// console.log(chosenColor);\n",
    "\n",
    "// ({color: { chosen_color: chosenColor = \"light\" }} = settings);\n",
    "\n",
    "// console.log(chosenColor);\n",
    "\n",
    "const {\n",
    "  color: { chosen_color:chosenColor = \"light\" }\n",
    "} = settings;\n",
    "\n",
    "console.log(chosenColor);"
   ]
  },
  {
   "cell_type": "markdown",
   "metadata": {},
   "source": [
    "## Function Destructuring"
   ]
  },
  {
   "cell_type": "code",
   "execution_count": null,
   "metadata": {
    "vscode": {
     "languageId": "javascript"
    }
   },
   "outputs": [],
   "source": [
    "function saveSettings({notifications, color:{theme}}) {\n",
    "  console.log(notifications);\n",
    "  console.log(theme);\n",
    "}\n",
    "\n",
    "saveSettings({\n",
    "  notifications: {\n",
    "    follow: true,\n",
    "    alert: true,\n",
    "    mkt: false\n",
    "  },\n",
    "  color: {\n",
    "    theme: \"green\"\n",
    "  }\n",
    "});"
   ]
  },
  {
   "cell_type": "markdown",
   "metadata": {},
   "source": [
    "## Value Shorthands"
   ]
  },
  {
   "cell_type": "code",
   "execution_count": null,
   "metadata": {
    "vscode": {
     "languageId": "javascript"
    }
   },
   "outputs": [],
   "source": [
    "const follow = checkFollow();\n",
    "const alert = checkAlert();\n",
    "\n",
    "const settings = {\n",
    "  notifications: {\n",
    "    follow,\n",
    "    alert\n",
    "  }\n",
    "}"
   ]
  },
  {
   "cell_type": "markdown",
   "metadata": {},
   "source": [
    "## Swapping and Skipping"
   ]
  },
  {
   "cell_type": "code",
   "execution_count": null,
   "metadata": {
    "vscode": {
     "languageId": "javascript"
    }
   },
   "outputs": [],
   "source": [
    "let mon = \"Sat\";\n",
    "let sat = \"Mon\";\n",
    "\n",
    "[ mon, sat ] = [ sat, mon ];\n",
    "\n",
    "const days = [\"mon\", \"tue\", \"wed\", \"thu\", \"fri\"];\n",
    "\n",
    "const [ , , , thu, fri ] = days;\n",
    "\n",
    "console.log(thu, fri);"
   ]
  },
  {
   "cell_type": "code",
   "execution_count": null,
   "metadata": {
    "vscode": {
     "languageId": "javascript"
    }
   },
   "outputs": [],
   "source": []
  }
 ],
 "metadata": {
  "language_info": {
   "name": "python"
  }
 },
 "nbformat": 4,
 "nbformat_minor": 2
}
