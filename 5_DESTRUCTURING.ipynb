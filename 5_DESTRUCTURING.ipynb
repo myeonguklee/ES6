{
 "cells": [
  {
   "cell_type": "markdown",
   "metadata": {},
   "source": [
    "## Object Destructuring"
   ]
  },
  {
   "cell_type": "code",
   "execution_count": null,
   "metadata": {
    "vscode": {
     "languageId": "javascript"
    }
   },
   "outputs": [],
   "source": [
    "const settings = {\n",
    "  notifications: {\n",
    "    follow: true,\n",
    "    alert: true,\n",
    "    unfollow: false,\n",
    "  },\n",
    "  color: {\n",
    "    theme: \"dark\",\n",
    "  }\n",
    "};\n",
    "\n",
    "// if (settings.notifications.follow) {\n",
    "//   console.log(\"You have a new follower!\");\n",
    "// }\n",
    "\n",
    "// const {\n",
    "//   notifications: { follow },\n",
    "//   color\n",
    "// } = settings;\n",
    "\n",
    "// const notifications = settings.notifications;\n",
    "\n",
    "const { notifications } = settings;\n",
    "\n",
    "console.log(notifications);\n",
    "\n",
    "// follow 없으면 false 할당\n",
    "const { notifications: { follow = false} } = settings;\n",
    "console.log(follow);\n",
    "\n",
    "// notifications 없으면 {} 할당\n",
    "const { notifications: { follow = false } = {} } = settings;\n",
    "console.log(follow);\n",
    "\n",
    "const { color: { theme = \"light\" } } = settings;\n",
    "console.log(theme);"
   ]
  },
  {
   "cell_type": "markdown",
   "metadata": {},
   "source": [
    "## Array Destructuring"
   ]
  },
  {
   "cell_type": "code",
   "execution_count": null,
   "metadata": {
    "vscode": {
     "languageId": "javascript"
    }
   },
   "outputs": [],
   "source": []
  }
 ],
 "metadata": {
  "language_info": {
   "name": "python"
  }
 },
 "nbformat": 4,
 "nbformat_minor": 2
}
