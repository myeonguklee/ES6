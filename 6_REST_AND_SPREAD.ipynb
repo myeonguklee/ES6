{
 "cells": [
  {
   "cell_type": "markdown",
   "metadata": {},
   "source": [
    "## Intoduction to Spread"
   ]
  },
  {
   "cell_type": "code",
   "execution_count": null,
   "metadata": {
    "vscode": {
     "languageId": "javascript"
    }
   },
   "outputs": [],
   "source": [
    "const friends = [1, 2, 3, 4];\n",
    "const family = ['a', 'b', 'c'];\n",
    "\n",
    "console.log(friends); // [1, 2, 3, 4]\n",
    "console.log(...friends); // 1 2 3 4\n",
    "\n",
    "console.log([friend, family]); // [Array(4), Array(3)]\n",
    "console.log([...friends, ...family]); // [1, 2, 3, 4, 'a', 'b', 'c']\n",
    "\n",
    "const sexy = {\n",
    "  name: \"Nico\",\n",
    "  age: 24\n",
    "};\n",
    "\n",
    "const hello = {\n",
    "  sexy: true,\n",
    "  hello: \"hello\"\n",
    "}\n",
    "\n",
    "console.log({ ...sexy, ...hello }); // {name: \"Nico\", age: 24, sexy: true, hello: \"hello\"}"
   ]
  },
  {
   "cell_type": "markdown",
   "metadata": {},
   "source": [
    "## Spread Applications"
   ]
  },
  {
   "cell_type": "code",
   "execution_count": null,
   "metadata": {
    "vscode": {
     "languageId": "javascript"
    }
   },
   "outputs": [],
   "source": [
    "const friends = [\"nico\", \"lynn\"];\n",
    "\n",
    "const newFreinds = [...friends, \"dal\"];\n",
    "\n",
    "console.log(newFreinds); // [\"nico\", \"lynn\", \"dal\"]\n",
    "\n",
    "const nico = {\n",
    "  username: \"nico\"\n",
    "}\n",
    "\n",
    "console.log({...nico, password: 1234}); // {username: \"nico\", password: 1234}\n",
    "\n",
    "const first = [\"mon\", \"tue\", \"wed\"];\n",
    "const weekend = [\"sat\", \"sun\"];\n",
    "const fullWeek = [...first, \"thu\", \"fri\", ...weekend];\n",
    "\n",
    "console.log(fullWeek); // [\"mon\", \"tue\", \"wed\", \"thu\", \"fri\", \"sat\", \"sun\"]\n",
    "\n",
    "const lastName = prompt(\"Last name\");\n",
    "\n",
    "const user = {\n",
    "  username: \"nico\",\n",
    "  age: 24,\n",
    "  // 입력값이 없으면 키 조차 생성 X\n",
    "  ...(lastName !== \"\" && {lastName})\n",
    "};\n",
    "\n",
    "console.log(user)"
   ]
  },
  {
   "cell_type": "markdown",
   "metadata": {},
   "source": [
    "## Intro to Rest Parameters\n",
    "\n",
    "- ... 이 파라미터에 들어가면 REST, REST는 Array 를 만듬\n",
    "\n",
    "- Spread: 확장, Rest: 축소"
   ]
  },
  {
   "cell_type": "code",
   "execution_count": null,
   "metadata": {
    "vscode": {
     "languageId": "javascript"
    }
   },
   "outputs": [],
   "source": [
    "const infiniteArge = (...kimchi) => console.log(kimchi);\n",
    "\n",
    "infiniteArgs(\"1\", 2, true, \"lalala\");\n",
    "\n",
    "const bestFreiendMaker = (firstOne, ...potato) => {\n",
    "  console.log(`My best friend is ${firstOne}`);\n",
    "  console.log(potato);\n",
    "};\n",
    "\n",
    "bestFreiendMaker(\"nicol\", \"lynn\", \"dall\", \"japan guy\");"
   ]
  },
  {
   "cell_type": "markdown",
   "metadata": {},
   "source": [
    "## Rest + Spread + Destructure Magic"
   ]
  },
  {
   "cell_type": "code",
   "execution_count": null,
   "metadata": {
    "vscode": {
     "languageId": "javascript"
    }
   },
   "outputs": [],
   "source": [
    "const user = {\n",
    "  NAME: \"nico\",\n",
    "  age: 24,\n",
    "  password: 12345\n",
    "}\n",
    "\n",
    "// user[\"password\"] = null;\n",
    "\n",
    "// console.log(user);\n",
    "\n",
    "const killPassword = ({password, ...rest}) => rest;\n",
    "\n",
    "const cleanUser = killPassword(user);\n",
    "\n",
    "console.log(cleanUser);\n",
    "\n",
    "const setCountry = ({country = \"KR\", ...rest}) => ({country, ...rest});\n",
    "\n",
    "console.log(setCountry(user));\n",
    "\n",
    "const rename = ({NAME:name, ...rest}) => ({name, ...rest});\n",
    "\n",
    "console.log(rename(user));"
   ]
  }
 ],
 "metadata": {
  "language_info": {
   "name": "python"
  }
 },
 "nbformat": 4,
 "nbformat_minor": 2
}
