{
 "cells": [
  {
   "cell_type": "markdown",
   "metadata": {},
   "source": [
    "## "
   ]
  },
  {
   "cell_type": "markdown",
   "metadata": {},
   "source": [
    "## For ... of"
   ]
  },
  {
   "cell_type": "code",
   "execution_count": null,
   "metadata": {
    "vscode": {
     "languageId": "javascript"
    }
   },
   "outputs": [],
   "source": [
    "const friends = [\"Nico\", \"Lynn\", \"Dalton\", \"Flynn\"];\n",
    "\n",
    "for (let i = 0; i < friends.length; i++) {\n",
    "  console.log(friends[i]);\n",
    "}\n",
    "\n",
    "const addHeart = (c, i, a) => console.log(c, i, a);\n",
    "\n",
    "friends.forEach(addHeart);\n",
    "\n",
    "friends.forEach(friend => console.log(friend));\n",
    "\n",
    "// of const, let으로 설정하지 선택할 수 있음(for each는 안됨)\n",
    "// for ... of 은 string에서도 사용 가능(+ Array, Lterables, NodeList 등)\n",
    "\n",
    "for (const friend of friends) {\n",
    "  console.log(friend);\n",
    "}\n",
    "\n",
    "for (const friend of friends) {\n",
    "  if (friend === \"Dalton\") {\n",
    "    break;\n",
    "  } else {\n",
    "    console.log(friend);\n",
    "  }\n",
    "}\n",
    "\n"
   ]
  }
 ],
 "metadata": {
  "language_info": {
   "name": "python"
  }
 },
 "nbformat": 4,
 "nbformat_minor": 2
}
