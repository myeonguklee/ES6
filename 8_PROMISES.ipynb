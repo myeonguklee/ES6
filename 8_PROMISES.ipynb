{
 "cells": [
  {
   "cell_type": "markdown",
   "metadata": {},
   "source": [
    "## Introduction to Async"
   ]
  },
  {
   "cell_type": "code",
   "execution_count": null,
   "metadata": {
    "vscode": {
     "languageId": "javascript"
    }
   },
   "outputs": [],
   "source": [
    "const hello = fetch(\"http://google.com\");\n",
    "\n",
    "console.log(\"something\");"
   ]
  },
  {
   "cell_type": "markdown",
   "metadata": {},
   "source": [
    "## Creating Promises"
   ]
  },
  {
   "cell_type": "code",
   "execution_count": null,
   "metadata": {
    "vscode": {
     "languageId": "javascript"
    }
   },
   "outputs": [],
   "source": [
    "const amISexy = new Promise((resolve, reject) => {\n",
    "  setTimeout(resolve, 3000, \"Yes you are!\");\n",
    "});\n",
    "\n",
    "console.log(amISexy);\n",
    "setInterval(console.log, 1000, amISexy);"
   ]
  },
  {
   "cell_type": "markdown",
   "metadata": {},
   "source": [
    "## Using Promises"
   ]
  },
  {
   "cell_type": "code",
   "execution_count": null,
   "metadata": {
    "vscode": {
     "languageId": "javascript"
    }
   },
   "outputs": [],
   "source": [
    "const amISexy = new Promise((resolve, reject) => {\n",
    "  setTimeout(resolve, 3000, \"Yes you are!\");\n",
    "  // setTimeout(reject, 3000, \"Yes you ugly!\");\n",
    "});\n",
    "\n",
    "// console.log(amISexy);\n",
    "// setInterval(console.log, 1000, amISexy);\n",
    "\n",
    "amISexy\n",
    ".then(result => console.log(result))\n",
    ".catch(error => console.log(error));"
   ]
  },
  {
   "cell_type": "markdown",
   "metadata": {},
   "source": [
    "## Chaining Promises"
   ]
  },
  {
   "cell_type": "code",
   "execution_count": null,
   "metadata": {
    "vscode": {
     "languageId": "javascript"
    }
   },
   "outputs": [],
   "source": [
    "const amISexy = new Promise((resolve, reject) => {\n",
    "  resolve(2);\n",
    "});\n",
    "\n",
    "amISexy.then(number => console.log(number)); // 2\n",
    "\n",
    "amISexy.then(number => {\n",
    "  console.log(number * 2) // 4\n",
    "  return number * 2; // 리턴 없으면 undefined + 아래 콘솔로그 NaN\n",
    "}).then(otherNumber => {\n",
    "  console.log(otherNumber * 2)\n",
    "});\n",
    "\n",
    "const timesTwo = (number) => number * 2;\n",
    "\n",
    "amISexy\n",
    ".then(timesTwo)\n",
    ".then(timesTwo)\n",
    ".then(timesTwo)\n",
    ".then(timesTwo)\n",
    ".then(() => {\n",
    "  throw Error(\"Something is wrong!\");\n",
    "})\n",
    ".then(lastNumber => console.log(lastNumber))\n",
    ".catch(error => console.log(error));\n",
    "\n"
   ]
  },
  {
   "cell_type": "markdown",
   "metadata": {},
   "source": [
    "## Promise.all"
   ]
  },
  {
   "cell_type": "code",
   "execution_count": null,
   "metadata": {
    "vscode": {
     "languageId": "javascript"
    }
   },
   "outputs": [],
   "source": [
    "const p1 = new Promise((resolve) => {\n",
    "  setTimeout(resolve, 5000, \"First\");\n",
    "});\n",
    "\n",
    "const p2 = new Promise((resolve) => {\n",
    "  setTimeout(resolve, 1000, \"Second\");\n",
    "});\n",
    "\n",
    "const p3 = new Promise((resove) => {\n",
    "  setTimeout(resove, 3000, \"Third\");\n",
    "})\n",
    "\n",
    "const motherPromise = Promise.all([p1, p2, p3]);\n",
    "\n",
    "motherPromise\n",
    "  .then(values => console.log(values))\n",
    "  .catch(err => console.log(err));"
   ]
  },
  {
   "cell_type": "markdown",
   "metadata": {},
   "source": [
    "## Promise.race\n",
    "\n",
    "- all과 다르게 하나라도 resolve 되거나 reject 되면 됨"
   ]
  },
  {
   "cell_type": "code",
   "execution_count": null,
   "metadata": {
    "vscode": {
     "languageId": "javascript"
    }
   },
   "outputs": [],
   "source": [
    "const p1 = new Promise((resolve) => {\n",
    "  setTimeout(resolve, 10000, \"First\");\n",
    "  });\n",
    "  \n",
    "  const p2 = new Promise((resolve, reject) => {\n",
    "  setTimeout(reject, 5000, \"second\");\n",
    "  });\n",
    "  \n",
    "  const p3 = new Promise((resolve) => {\n",
    "  setTimeout(resolve, 3000, \"third\");\n",
    "  });\n",
    "  \n",
    "  Promise.race([p1, p2, p3])\n",
    "  .then((value) => console.log(value))\n",
    "  .catch((err) => console.log(err));"
   ]
  },
  {
   "cell_type": "markdown",
   "metadata": {},
   "source": [
    "## Finally"
   ]
  },
  {
   "cell_type": "code",
   "execution_count": null,
   "metadata": {
    "vscode": {
     "languageId": "javascript"
    }
   },
   "outputs": [],
   "source": [
    "const p1 = new Promise((resolve, reject) => {\n",
    "  setTimeout(reject, 1000, \"First\");\n",
    "})\n",
    "  .then(value => console.log(value))\n",
    "  .catch(e => console.log(`error: ${e}`))\n",
    "  .finally(() => console.log(\"I'm done\"));"
   ]
  },
  {
   "cell_type": "markdown",
   "metadata": {},
   "source": [
    "## Real world Promise"
   ]
  },
  {
   "cell_type": "code",
   "execution_count": null,
   "metadata": {
    "vscode": {
     "languageId": "javascript"
    }
   },
   "outputs": [],
   "source": [
    "// fetch(\"https://google.com\")\n",
    "//   .then((response) => console.log(response))\n",
    "//   .catch((e) => console.log(`error: ${e}`));\n",
    "\n",
    "fetch(\"http://127.0.0.1:5500/index.html\")\n",
    ".then((response) => response.text())\n",
    "// .then((potato) => console.log(potato))\n",
    ".catch((e) => console.log(`✔${e}`));\n",
    "\n",
    "fetch(\"https://yts.mx/api/v2/list_movies.json\")\n",
    ".then((response) => {\n",
    "//console.log(response);\n",
    "return response.json();\n",
    "})\n",
    ".then((potato) => console.log(potato))\n",
    ".catch((e) => console.log(`✔${e}`));"
   ]
  }
 ],
 "metadata": {
  "language_info": {
   "name": "python"
  }
 },
 "nbformat": 4,
 "nbformat_minor": 2
}
