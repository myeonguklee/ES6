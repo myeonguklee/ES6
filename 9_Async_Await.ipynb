{
 "cells": [
  {
   "cell_type": "markdown",
   "metadata": {},
   "source": [
    "## Async Await"
   ]
  },
  {
   "cell_type": "code",
   "execution_count": null,
   "metadata": {
    "vscode": {
     "languageId": "javascript"
    }
   },
   "outputs": [],
   "source": [
    "const getMoviesPromise = () => {\n",
    "  fetch(\"https://yts.mx/api/v2/list_movies.json\")\n",
    "  .then((response) => {\n",
    "  console.log(response);\n",
    "  return response.json();\n",
    "  })\n",
    "  .then((potato) => console.log(potato))\n",
    "  .catch((e) => console.log(`✔${e}`));\n",
    "  };\n",
    "  \n",
    "  const getMoviesAsync = async () => {\n",
    "  const response = await fetch(\"https://yts.mx/api/v2/list_movies.json\");\n",
    "  console.log(response);\n",
    "  const json = await response.json();\n",
    "  console.log(json);\n",
    "  };\n",
    "  \n",
    "  getMoviesAsync();"
   ]
  },
  {
   "cell_type": "markdown",
   "metadata": {},
   "source": [
    "## try catch finally\n",
    "\n",
    "- https://hackernoon.com/6-reasons-why-javascripts-async-await-blows-promises-away-tutorial-c7ec10518dd9"
   ]
  },
  {
   "cell_type": "code",
   "execution_count": null,
   "metadata": {
    "vscode": {
     "languageId": "javascript"
    }
   },
   "outputs": [],
   "source": [
    "const getMoviesAsync = async () => {\n",
    "  try {\n",
    "    const response = await fetch(\"https://yts.mx/api/v2/list_movies.json\");\n",
    "    const json = await response.json();\n",
    "    console.log(json);\n",
    "  } catch (e) {\n",
    "    console.log(e);\n",
    "  } finally {\n",
    "    console.log(\"we are done\");\n",
    "  }\n",
    "};\n",
    "  \n",
    "getMoviesAsync();"
   ]
  },
  {
   "cell_type": "markdown",
   "metadata": {},
   "source": [
    "## Parallel Async Await"
   ]
  },
  {
   "cell_type": "code",
   "execution_count": null,
   "metadata": {
    "vscode": {
     "languageId": "javascript"
    }
   },
   "outputs": [],
   "source": [
    "const getMoviesAsync = async () => {\n",
    "  try {\n",
    "    const [moviesResponse, upcomingResponse] = await Promise.all([\n",
    "      fetch(\"https://yts.mx/api/v2/list_movies.json\"),\n",
    "      fetch(\"https://yts.mx/api/v2/movie_suggestions.json?movie_id=100\"),\n",
    "    ]);\n",
    "  \n",
    "    const [movies, upcoming] = await Promise.all([\n",
    "      moviesResponse.json(),\n",
    "      upcomingResponse.json(),\n",
    "    ]);\n",
    "  \n",
    "  console.log(movies, upcoming);\n",
    "  } catch (e) {\n",
    "    console.log(e);\n",
    "  } finally {\n",
    "    console.log(\"we are done\");\n",
    "  }\n",
    "};\n",
    "  \n",
    "getMoviesAsync();"
   ]
  },
  {
   "cell_type": "markdown",
   "metadata": {},
   "source": [
    "## "
   ]
  }
 ],
 "metadata": {
  "language_info": {
   "name": "python"
  }
 },
 "nbformat": 4,
 "nbformat_minor": 2
}
