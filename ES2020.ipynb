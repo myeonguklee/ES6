{
 "cells": [
  {
   "cell_type": "markdown",
   "metadata": {},
   "source": [
    "## New ?? Operator\n",
    "\n",
    "null, undefine일 때만 작동"
   ]
  },
  {
   "cell_type": "code",
   "execution_count": null,
   "metadata": {
    "vscode": {
     "languageId": "javascript"
    }
   },
   "outputs": [],
   "source": [
    "const name = 0;\n",
    "\n",
    "// || 변수에 값이 선언이 되어있음에도 'anonymous'를 출력한다.\n",
    "// (0, \"\" 를 false로 판단)\n",
    "console.log(\"hello\", name || \"anonymous\");\n",
    "\n",
    "// ?? 는 null 이거나 undefined 일 때만 작동한다.\n",
    "console.log(\"hello\", name ?? \"anonymous\");"
   ]
  },
  {
   "cell_type": "markdown",
   "metadata": {},
   "source": [
    "## Optional chaining (?.)"
   ]
  },
  {
   "cell_type": "code",
   "execution_count": null,
   "metadata": {
    "vscode": {
     "languageId": "javascript"
    }
   },
   "outputs": [],
   "source": [
    "console.log(lynn.profile && lynn.profile.email);\n",
    "\n",
    "console.log(lynn && lynn.profile && lynn.profile.email && lynn.profile.email.provider && lynn.profile.email.provider.name );\n",
    "// Optional Chaining\n",
    "console.log(lynn?.profile?.email?.provider?.name);"
   ]
  }
 ],
 "metadata": {
  "language_info": {
   "name": "python"
  }
 },
 "nbformat": 4,
 "nbformat_minor": 2
}
