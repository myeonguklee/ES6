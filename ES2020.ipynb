{
 "cells": [
  {
   "cell_type": "markdown",
   "metadata": {},
   "source": [
    "## New ?? Operator\n",
    "\n",
    "null, undefine일 때만 작동"
   ]
  },
  {
   "cell_type": "code",
   "execution_count": null,
   "metadata": {
    "vscode": {
     "languageId": "javascript"
    }
   },
   "outputs": [],
   "source": [
    "const name = 0;\n",
    "\n",
    "// || 변수에 값이 선언이 되어있음에도 'anonymous'를 출력한다.\n",
    "// (0, \"\" 를 false로 판단)\n",
    "console.log(\"hello\", name || \"anonymous\");\n",
    "\n",
    "// ?? 는 null 이거나 undefined 일 때만 작동한다.\n",
    "console.log(\"hello\", name ?? \"anonymous\");"
   ]
  },
  {
   "cell_type": "markdown",
   "metadata": {},
   "source": [
    "## Optional chaining (?.)"
   ]
  },
  {
   "cell_type": "code",
   "execution_count": null,
   "metadata": {
    "vscode": {
     "languageId": "javascript"
    }
   },
   "outputs": [],
   "source": [
    "console.log(lynn.profile && lynn.profile.email);\n",
    "\n",
    "console.log(lynn && lynn.profile && lynn.profile.email && lynn.profile.email.provider && lynn.profile.email.provider.name );\n",
    "// Optional Chaining\n",
    "console.log(lynn?.profile?.email?.provider?.name);"
   ]
  },
  {
   "cell_type": "markdown",
   "metadata": {},
   "source": [
    "## padSart and pad End"
   ]
  },
  {
   "cell_type": "code",
   "execution_count": null,
   "metadata": {
    "vscode": {
     "languageId": "javascript"
    }
   },
   "outputs": [],
   "source": [
    "let hours = 12;\n",
    "let minutes = 3;\n",
    "let seconds = 2;\n",
    "\n",
    "console.log(`${hours}:${minutes < 10 ? `0${minutes}` : minutes}:${seconds < 10 ? `0${seconds}` : seconds}`);\n",
    "\n",
    "minutes = String(minutes).padStart(2, \"0\");\n",
    "\n",
    "\"5\".padStart(5, \"x\") // \"xxxx5\"\n",
    "\"5\".padEnd(5, \"x\") // \"5xxxx\"\n",
    "\"1\".padStart(2, \"0\").padEnd(3, \"s\") // \"01s\""
   ]
  },
  {
   "cell_type": "markdown",
   "metadata": {},
   "source": [
    "## trim, trimStart, trimEnd"
   ]
  },
  {
   "cell_type": "code",
   "execution_count": null,
   "metadata": {
    "vscode": {
     "languageId": "javascript"
    }
   },
   "outputs": [],
   "source": [
    "\"                                hello\".trimStart();\n",
    "\"hello                                \".trimEnd();\n",
    "\"            hello           \".trim();\n",
    "\n",
    "let name = \"               m             \";\n",
    "name.trim(); // \"m\"\n",
    "console.log(name); // \"               m             \"\n",
    "name = name.trim();\n",
    "console.log(name); // \"m\""
   ]
  },
  {
   "cell_type": "markdown",
   "metadata": {},
   "source": [
    "## Object entries, Object values, Object from Entries"
   ]
  },
  {
   "cell_type": "code",
   "execution_count": null,
   "metadata": {
    "vscode": {
     "languageId": "javascript"
    }
   },
   "outputs": [],
   "source": [
    "const person = {\n",
    "  name: \"nicolas\",\n",
    "  age:12\n",
    "}\n",
    "\n",
    "Object.values(person); // [\"nicolas\", 12]\n",
    "Object.entries(person); // [[\"name\", \"nicolas\"], [\"age\", 12]]\n",
    "Object.entries(person).forEach(item => console.log(item[0], item[1]));\n",
    "Object.fromEntries([[\"name\", \"nicolas\"], [\"age\", 12], [\"f\", \"k\"], [\"hello\", true]]) // {name: \"nicolas\", age: 12, f: \"k\", hello: true}\n"
   ]
  },
  {
   "cell_type": "markdown",
   "metadata": {},
   "source": [
    "## Array flat"
   ]
  },
  {
   "cell_type": "code",
   "execution_count": null,
   "metadata": {
    "vscode": {
     "languageId": "javascript"
    }
   },
   "outputs": [],
   "source": [
    "[1, 2, 3, 4, 5, 6]\n",
    "\n",
    "const flatTest = [1, [2, 2, [3, 3, [4, 4, [5, 5]]]]];\n",
    "\n",
    "console.log(flatTest.flat()); // [1, 2, 2, [3, 3, [4, 4, [5, 5]]]]\n",
    "console.log(flatTest.flat(2)); // [1, 2, 2, 3, 3, [4, 4, [5, 5]]]\n",
    "console.log(flatTest.flat(3)); // [1, 2, 2, 3, 3, 4, 4, [5, 5]]\n",
    "console.log(flatTest.flat(4)); // [1, 2, 2, 3, 3, 4, 4, 5, 5]"
   ]
  },
  {
   "cell_type": "markdown",
   "metadata": {},
   "source": [
    " ## Array sort"
   ]
  },
  {
   "cell_type": "code",
   "execution_count": null,
   "metadata": {
    "vscode": {
     "languageId": "javascript"
    }
   },
   "outputs": [],
   "source": [
    "const fruits = [\"apple\", \"strawberry\", \"avocado\"]\n",
    "\n",
    "const sortFruitByLength = (fruitA, fruitB) => {\n",
    "  return fruitA.length - fruitB.length;\n",
    "}\n",
    "\n",
    "console.log(fruits.sort(sortFruitByLength)); // [\"apple\", \"avocado\", \"strawberry\"]\n",
    "\n",
    "const people = [\n",
    "  {\n",
    "  name: \"nico\",\n",
    "  age: 12,\n",
    "  },\n",
    "  {\n",
    "  name: \"joey\",\n",
    "  age: 30,\n",
    "  },\n",
    "  ];\n",
    "  \n",
    "  const orderPeopleByAge = (personA, personB) => {\n",
    "  return personB.age - personA.age;\n",
    "  };\n",
    "  \n",
    "  console.log(people.sort(orderPeopleByAge)); // [{name: \"joey\", age: 30}, {name: \"nico\", age: 12}]"
   ]
  },
  {
   "cell_type": "markdown",
   "metadata": {},
   "source": [
    "## Promise allSettled\n",
    "\n",
    "- 모든 promise가 잘 작동하는지 확인할 필요가 없으면 allSettled 사용, 독립\n",
    "- 모든 promise가 동시에 작동하는지, 서로 상관이 있는 promise all 사용,  모두 성공 or 모두 실패\n"
   ]
  }
 ],
 "metadata": {
  "language_info": {
   "name": "python"
  }
 },
 "nbformat": 4,
 "nbformat_minor": 2
}
