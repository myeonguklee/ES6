{
 "cells": [
  {
   "cell_type": "markdown",
   "metadata": {},
   "source": [
    "## Logicl OR Assignment\n",
    "\n",
    "- Logical OR Assignment (||=)\n",
    "- Logical AND Assignment (&&=)\n",
    "- Logical NULLISH Assignment (??=)"
   ]
  },
  {
   "cell_type": "code",
   "execution_count": null,
   "metadata": {
    "vscode": {
     "languageId": "javascript"
    }
   },
   "outputs": [],
   "source": [
    "let name = prompt(\"what is your name?\");\n",
    "\n",
    "// 기존 방식\n",
    "// if (!name) {\n",
    "//     name = \"anonymous\";\n",
    "// }\n",
    "\n",
    "// name이 falsy(undefined, false, 빈 문자열, 0, 혹은 null일 때)일때, anonymous 할당\n",
    "name ||= \"anonymous\";\n",
    "\n",
    "console.log(`Hello, ${name}!`);"
   ]
  },
  {
   "cell_type": "markdown",
   "metadata": {},
   "source": [
    "## Logical AND Assignment"
   ]
  },
  {
   "cell_type": "code",
   "execution_count": null,
   "metadata": {
    "vscode": {
     "languageId": "javascript"
    }
   },
   "outputs": [],
   "source": [
    "let x;\n",
    "\n",
    "x ||= 1;\n",
    "\n",
    "console.log(x); // 1\n",
    "\n",
    "const user = {\n",
    "  username: \"nico\",\n",
    "  password: 123,\n",
    "};\n",
    "\n",
    "// if (user.password) {\n",
    "//   user.password = \"[secret]\";\n",
    "// }\n",
    "\n",
    "user.password &&= \"[secret]\";\n",
    "user.name ||= \"nico\";\n",
    "\n",
    "console.log(user);"
   ]
  },
  {
   "cell_type": "markdown",
   "metadata": {},
   "source": [
    "## Logical NULLISH Assignment\n",
    "\n",
    "- &&= 변수가 truthy(숫자, string, 배열 ...) 일 때, value 할당\n",
    "\n",
    "- ||= 변수가 falsy(0, -0, NaN, false, 빈 텍스트 등) 일 때, value 할당\n",
    "- ??= 변수가 null 이거나 undefined 일 때 value 할당\n",
    "\n"
   ]
  },
  {
   "cell_type": "code",
   "execution_count": null,
   "metadata": {
    "vscode": {
     "languageId": "javascript"
    }
   },
   "outputs": [],
   "source": [
    "const user = {\n",
    "  username: \"nico\",\n",
    "  password: 123,\n",
    "  isAdmin: undefined,\n",
    "};\n",
    "\n",
    "// user.isAdmin ||= true;\n",
    "\n",
    "// null, undefined 만 체크\n",
    "user.isAdmin ??= true;\n",
    "\n",
    "console.log(user);"
   ]
  },
  {
   "cell_type": "markdown",
   "metadata": {},
   "source": [
    "## Numeric Separators"
   ]
  },
  {
   "cell_type": "code",
   "execution_count": null,
   "metadata": {
    "vscode": {
     "languageId": "javascript"
    }
   },
   "outputs": [],
   "source": [
    "const allTheMoney = 100_000_000_000_000\n",
    "console.log(allTheMoney); // 100000000000000"
   ]
  },
  {
   "cell_type": "markdown",
   "metadata": {},
   "source": [
    "## Promise any"
   ]
  },
  {
   "cell_type": "code",
   "execution_count": null,
   "metadata": {
    "vscode": {
     "languageId": "javascript"
    }
   },
   "outputs": [],
   "source": [
    "Promise.any([p1, p2, p3]).then(); // 가장 빨리 끝난 프로미스를 반환\n",
    "\n",
    "const p1 = new Promise((resolve, reject) => {\n",
    "  // setTimeout(() => {\n",
    "  //   resolve(\"quick\");\n",
    "  // }, 1000);\n",
    "  setTimeout(resolve, 1000, \"quick\");\n",
    "});\n",
    "\n",
    "const p2 = new Promise((resolve, reject) => {\n",
    "  // setTimeout(() => {\n",
    "  //   resolve(\"slow\");\n",
    "  // }, 5000);\n",
    "  setTimeout(resolve, 5000, \"slow\");\n",
    "});\n",
    "\n",
    "Promise.all([p1, p2])\n",
    "  .then(console.log)\n",
    "  .catch(e => {\n",
    "    console.log(e.errors\n",
    "  )}); // [\"quick\", \"slow\"]\n",
    "Promise.any([p1, p2]).then(console.log); // \"quick\""
   ]
  },
  {
   "cell_type": "markdown",
   "metadata": {},
   "source": [
    "## replaceAll\n",
    "\n",
    "- 초기 변수 바꾸는 것은 아님!! 새로운 value 리턴"
   ]
  },
  {
   "cell_type": "code",
   "execution_count": null,
   "metadata": {
    "vscode": {
     "languageId": "javascript"
    }
   },
   "outputs": [],
   "source": [
    "const name = \"Nicolaso\";\n",
    "const newName = name.replaceAll(\"o\", \"!\");\n",
    "\n",
    "console.log(name, newName); // Nicolaso Nic!las!\n",
    "\n",
    "\n",
    "const arr = [1, 2];\n",
    "arr.push(3);\n",
    "\n",
    "console.log(arr); // [1, 2, 3]\n",
    "\n"
   ]
  }
 ],
 "metadata": {
  "language_info": {
   "name": "python"
  }
 },
 "nbformat": 4,
 "nbformat_minor": 2
}
