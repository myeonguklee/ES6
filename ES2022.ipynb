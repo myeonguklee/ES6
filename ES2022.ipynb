{
 "cells": [
  {
   "cell_type": "markdown",
   "metadata": {},
   "source": [
    "## at()"
   ]
  },
  {
   "cell_type": "code",
   "execution_count": null,
   "metadata": {
    "vscode": {
     "languageId": "javascript"
    }
   },
   "outputs": [],
   "source": [
    "const arr = [\"a\", \"b\", \"c\", \"d\"]\n",
    "\n",
    "console.log(arr.at(2)); // c\n",
    "console.log(arr[2]) // c\n",
    "\n",
    "// 뒤에서부터 찾을 때 유용!\n",
    "console.log(arr.at(-1)); // d\n",
    "// 아래 방법으로 찾아야함 console.log(arr[-1]) // undefined\n",
    "console.log(arr[3]) // d"
   ]
  },
  {
   "cell_type": "markdown",
   "metadata": {},
   "source": [
    "## Object hasOwn"
   ]
  },
  {
   "cell_type": "code",
   "execution_count": null,
   "metadata": {
    "vscode": {
     "languageId": "javascript"
    }
   },
   "outputs": [],
   "source": [
    "const user = {\n",
    "  name: \"nico\",\n",
    "  isAdmin: \"hi\"\n",
    "};\n",
    "\n",
    "console.log(user.hasOwnProperty(\"isAdmin\"));\n",
    "\n",
    "// 제일 권장 but compatibility 확인 필수\n",
    "console.log(user.hasOwn(user, \"isAdmin\"));\n",
    "console.log(\"isAdmin\" in user);"
   ]
  },
  {
   "cell_type": "markdown",
   "metadata": {},
   "source": [
    "## Error cause"
   ]
  },
  {
   "cell_type": "code",
   "execution_count": null,
   "metadata": {
    "vscode": {
     "languageId": "javascript"
    }
   },
   "outputs": [],
   "source": [
    "try {\n",
    "  2 + 2;\n",
    "  throw new Error(\"DB Connection Failed\", {\n",
    "    cause: {\n",
    "      error: \"Password is correct.\",\n",
    "      value: 1234,\n",
    "      message: [\"too short\", \"only number not ok.\"]\n",
    "    }\n",
    "  });\n",
    "} catch (e) {\n",
    "  console.log(e.message, e.cause);\n",
    "}"
   ]
  },
  {
   "cell_type": "markdown",
   "metadata": {},
   "source": [
    "## Class Field Declarations"
   ]
  },
  {
   "cell_type": "code",
   "execution_count": null,
   "metadata": {
    "vscode": {
     "languageId": "javascript"
    }
   },
   "outputs": [],
   "source": [
    "// class Counter {\n",
    "//   constructor() {\n",
    "//     this.count = 0;\n",
    "//   }\n",
    "\n",
    "//   plus() {\n",
    "//     this.count++;\n",
    "//   }\n",
    "// }\n",
    "\n",
    "class Counter {\n",
    "  count = 0;\n",
    "\n",
    "  plus() {\n",
    "    this.count++;\n",
    "  }\n",
    "}"
   ]
  },
  {
   "cell_type": "markdown",
   "metadata": {},
   "source": [
    "## Private Methods and Fields"
   ]
  },
  {
   "cell_type": "code",
   "execution_count": null,
   "metadata": {
    "vscode": {
     "languageId": "javascript"
    }
   },
   "outputs": [],
   "source": [
    "class Counter {\n",
    "  #count = 0;\n",
    "  get count() {\n",
    "    return this.#count;\n",
    "  }\n",
    "  plus() {\n",
    "    if(this.#count === 5) {\n",
    "      this.#reset();\n",
    "    } else {\n",
    "      this.#count++;\n",
    "    }\n",
    "  }\n",
    "  #reset() {\n",
    "    this.#count = 0;\n",
    "  }\n",
    "}\n",
    "\n",
    "const c = new Counter();\n",
    "\n",
    "c.plus();\n",
    "c.plus();\n",
    "c.plus();\n",
    "c.plus();\n",
    "c.plus();\n",
    "c.plus();\n",
    "console.log(c.count);\n",
    "\n"
   ]
  },
  {
   "cell_type": "markdown",
   "metadata": {},
   "source": [
    "## Static Fields and Methods"
   ]
  },
  {
   "cell_type": "code",
   "execution_count": null,
   "metadata": {
    "vscode": {
     "languageId": "javascript"
    }
   },
   "outputs": [],
   "source": [
    "class Counter {\n",
    "  #count = 0;\n",
    "  static description = \"Count up to five.\";\n",
    "  static isMyChild(instance) {\n",
    "    return instance instanceof Counter;\n",
    "  }\n",
    "  get count() {\n",
    "    return this.#count;\n",
    "  }\n",
    "  plus() {\n",
    "    if(this.#count === 10) {\n",
    "      this.#reset();\n",
    "    } else {\n",
    "      this.#count++;\n",
    "    }\n",
    "  }\n",
    "  #reset() {\n",
    "    this.#count = 0;\n",
    "  }\n",
    "}\n",
    "\n",
    "const c = new Counter();\n",
    "\n",
    "console.log(Counter.description);\n",
    "console.log(Counter.isMyChild(c));"
   ]
  }
 ],
 "metadata": {
  "language_info": {
   "name": "python"
  }
 },
 "nbformat": 4,
 "nbformat_minor": 2
}
